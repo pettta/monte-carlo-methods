{
 "cells": [
  {
   "cell_type": "markdown",
   "id": "5a94479b-d773-4fb3-ba73-b5925c4d49b9",
   "metadata": {},
   "source": [
    "# Lecture 5"
   ]
  },
  {
   "cell_type": "code",
   "execution_count": 1,
   "id": "e051338e-8b0c-4969-848e-6bb390a7ab02",
   "metadata": {},
   "outputs": [
    {
     "ename": "LoadError",
     "evalue": "ArgumentError: Package LinearRegression not found in current path.\n- Run `import Pkg; Pkg.add(\"LinearRegression\")` to install the LinearRegression package.",
     "output_type": "error",
     "traceback": [
      "ArgumentError: Package LinearRegression not found in current path.\n- Run `import Pkg; Pkg.add(\"LinearRegression\")` to install the LinearRegression package.",
      ""
     ]
    }
   ],
   "source": [
    "using Random, Distributions, Plots, LinearRegression\n",
    "#Lecture 5.1\n",
    "#We'll integrate a function using Monte Carlo integration.\n",
    "g(x) = sin(x^2) #Function to integrate\n",
    "#Integral bounds\n",
    "a=0\n",
    "b=2\n",
    "dist = Uniform(a,b)\n",
    "sample_size = 100000\n",
    "X=rand(dist,sample_size) #Generates a list of uniform random numbers\n",
    "I_MC=(b-a)/sample_size*sum(g.(X)) #Monte Carlo Estimator\n",
    "println(I_MC) #For comparison, actual value for the integral of sin(x^2) from 0 to 1 is around .804776."
   ]
  }
 ],
 "metadata": {
  "kernelspec": {
   "display_name": "Julia 1.10.5",
   "language": "julia",
   "name": "julia-1.10"
  },
  "language_info": {
   "file_extension": ".jl",
   "mimetype": "application/julia",
   "name": "julia",
   "version": "1.10.5"
  }
 },
 "nbformat": 4,
 "nbformat_minor": 5
}
