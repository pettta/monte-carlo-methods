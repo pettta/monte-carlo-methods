{
 "cells": [
  {
   "cell_type": "markdown",
   "id": "93f9146b-6876-437b-a3b4-077197fb621d",
   "metadata": {},
   "source": [
    "# Lecture 5 "
   ]
  },
  {
   "cell_type": "markdown",
   "id": "ba55d45e-d0aa-4234-8f12-5cd4feecfdfd",
   "metadata": {},
   "source": [
    "## What we can calculate with monte carlo simulation \n",
    "- expected values \n",
    "- probabilities \n",
    "- integrals \n",
    "\n",
    "## Real world accomplishments of monte carlo simulations \n",
    "- monte carlo ray tracing (approximating the rendering equation with monte carlo methods )\n",
    "- optimization problems (stochastic optimization, portfolio theory, simulations)\n",
    "- monte carlo localization (for robotics)\n",
    "- monte carlo tree search (chess, go, strategy games) HW2 EC QUESTION "
   ]
  },
  {
   "cell_type": "code",
   "execution_count": null,
   "id": "2bfd7f39-4ad2-4afe-9733-208537b9ca87",
   "metadata": {},
   "outputs": [],
   "source": []
  },
  {
   "cell_type": "code",
   "execution_count": null,
   "id": "9c10e418-6e00-4fc6-b834-cbcdc6f06bb8",
   "metadata": {},
   "outputs": [],
   "source": []
  },
  {
   "cell_type": "code",
   "execution_count": null,
   "id": "15c66e69-34b7-4b96-98b4-be48b1a7c070",
   "metadata": {},
   "outputs": [],
   "source": []
  },
  {
   "cell_type": "code",
   "execution_count": null,
   "id": "d2d537fa-3590-4a75-95ac-9af91ef1168f",
   "metadata": {},
   "outputs": [],
   "source": []
  },
  {
   "cell_type": "markdown",
   "id": "0c723509-4500-4586-8d64-59a9860437d3",
   "metadata": {},
   "source": [
    "# Lecture 6 "
   ]
  }
 ],
 "metadata": {
  "kernelspec": {
   "display_name": "Python 3 (ipykernel)",
   "language": "python",
   "name": "python3"
  },
  "language_info": {
   "codemirror_mode": {
    "name": "ipython",
    "version": 3
   },
   "file_extension": ".py",
   "mimetype": "text/x-python",
   "name": "python",
   "nbconvert_exporter": "python",
   "pygments_lexer": "ipython3",
   "version": "3.10.7"
  }
 },
 "nbformat": 4,
 "nbformat_minor": 5
}
